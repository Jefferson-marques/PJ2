{
  "nbformat": 4,
  "nbformat_minor": 0,
  "metadata": {
    "colab": {
      "name": " Analisando_os_Dados_do_Airbnb_Porto_Portugal.ipynb",
      "provenance": [],
      "collapsed_sections": [],
      "include_colab_link": true
    },
    "kernelspec": {
      "name": "python3",
      "display_name": "Python 3"
    }
  },
  "cells": [
    {
      "cell_type": "markdown",
      "metadata": {
        "id": "view-in-github",
        "colab_type": "text"
      },
      "source": [
        "<a href=\"https://colab.research.google.com/github/Jefferson-marques/PJ2/blob/master/Analisando_os_Dados_do_Airbnb_Porto_Portugal.ipynb\" target=\"_parent\"><img src=\"https://colab.research.google.com/assets/colab-badge.svg\" alt=\"Open In Colab\"/></a>"
      ]
    },
    {
      "cell_type": "markdown",
      "metadata": {
        "id": "kLI0gJtzDGuQ",
        "colab_type": "text"
      },
      "source": [
        "<center><img src=\"http://sigmoidal.ai/wp-content/uploads/2019/08/logo_color.png\" height=\"40px\"></center>\n",
        "\n",
        "# Análise dos Dados do Airbnb - Porto, Portugal\n",
        "\n",
        "O [Airbnb](https://www.airbnb.com.br/) já é considerado como sendo a **maior empresa hoteleira da atualidade**. Ah, o detalhe é que ele **não possui nenhum hotel**!\n",
        "\n",
        "Conectando pessoas que querem viajar (e se hospedar) com anfitriões que querem alugar seus imóveis de maneira prática, o Airbnb fornece uma plataforma inovadora para tornar essa hospedagem alternativa.\n",
        "\n",
        "No final de 2018, a Startup fundada 10 anos atrás, já havia **hospedado mais de 300 milhões** de pessoas ao redor de todo o mundo, desafiando as redes hoteleiras tradicionais.\n",
        "\n",
        "Uma das iniciativas do Airbnb é disponibilizar dados do site, para algumas das principais cidades do mundo. Por meio do portal [Inside Airbnb](http://insideairbnb.com/get-the-data.html), é possível baixar uma grande quantidade de dados para desenvolver projetos e soluções de *Data Science*.\n",
        "\n",
        "<center><img alt=\"Analisando Airbnb\" width=\"10%\" src=\"https://www.area360.com.au/wp-content/uploads/2017/09/airbnb-logo.jpg\"></center>\n",
        "\n",
        "**Neste *notebook*, iremos analisar os dados referentes à cidade de Porto, e ver quais insights podem ser extraídos a partir de dados brutos.**"
      ]
    },
    {
      "cell_type": "markdown",
      "metadata": {
        "id": "0zxQHhIUDF_2",
        "colab_type": "text"
      },
      "source": [
        "## Obtenção dos Dados\n"
      ]
    },
    {
      "cell_type": "code",
      "metadata": {
        "id": "Vhp2wMPgJ6zX",
        "colab_type": "code",
        "colab": {}
      },
      "source": [
        "# importar os pacotes necessarios\n",
        "import pandas as pd\n",
        "import matplotlib.pyplot as plt\n",
        "import seaborn as sns\n",
        "\n",
        "%matplotlib inline"
      ],
      "execution_count": 0,
      "outputs": []
    },
    {
      "cell_type": "markdown",
      "metadata": {
        "id": "r-q3kT4hA_4s",
        "colab_type": "text"
      },
      "source": [
        "O melhor arquivo para ser importardo seria *o listings.csv.gz*, porque tem mais variaveis e devido a isso pode se ter correlações melhores, mas o *listings.csv* é mais simples e por este motivo, é o melhor a ser usado. "
      ]
    },
    {
      "cell_type": "code",
      "metadata": {
        "id": "tUmoAT8DLQ5T",
        "colab_type": "code",
        "colab": {}
      },
      "source": [
        "# importar o arquivo listings.csv para um DataFrame\n",
        "df = pd.read_csv(\"http://data.insideairbnb.com/portugal/norte/porto/2019-11-28/visualisations/listings.csv\")"
      ],
      "execution_count": 0,
      "outputs": []
    },
    {
      "cell_type": "markdown",
      "metadata": {
        "id": "qb5By2nIMS6m",
        "colab_type": "text"
      },
      "source": [
        "## Análise dos Dados\n",
        "\n",
        "**Esta etapa tem por objetivo criar uma consciência situacional inicial e permitir um entendimento de como os dados estão estruturados.**\n"
      ]
    },
    {
      "cell_type": "markdown",
      "metadata": {
        "id": "RYgvuebKNg8-",
        "colab_type": "text"
      },
      "source": [
        "**Dicionário das variáveis**\n",
        "\n",
        "* id - número de id gerado para identificar o imóvel\n",
        "* name - nome da propriedade anunciada\n",
        "* host_id - número de id do proprietário (anfitrião) da propriedade\n",
        "* host_name - Nome do anfitrião\n",
        "* neighbourhood_group - esta coluna não contém nenhum valor válido\n",
        "* neighbourhood - nome do bairro\n",
        "* latitude - coordenada da latitude da propriedade\n",
        "* longitude - coordenada da longitude da propriedade\n",
        "* room_type - informa o tipo de quarto que é oferecido\n",
        "* price - preço para alugar o imóvel\n",
        "* minimum_nights - quantidade mínima de noites para reservar\n",
        "* number_of_reviews - número de reviews que a propriedade possui\n",
        "* last_review - data do último review\n",
        "* reviews_per_month - quantidade de reviews por mês\n",
        "* calculated_host_listings_count - quantidade de imóveis do mesmo anfitrião\n",
        "* availability_365 - número de dias de disponibilidade dentro de 365 dias\n",
        "\n",
        "Antes de iniciar qualquer análise, vamos verificar a cara do nosso *dataset*, analisando as 5 primeiras entradas."
      ]
    },
    {
      "cell_type": "code",
      "metadata": {
        "id": "2iS_dae7YQtO",
        "colab_type": "code",
        "outputId": "884f844c-4a8b-4ac0-c1d8-2bd278b7fca0",
        "colab": {
          "base_uri": "https://localhost:8080/",
          "height": 479
        }
      },
      "source": [
        "# mostrar as 5 primeiras entradas\n",
        "df.head()\n",
        "\n"
      ],
      "execution_count": 0,
      "outputs": [
        {
          "output_type": "execute_result",
          "data": {
            "text/html": [
              "<div>\n",
              "<style scoped>\n",
              "    .dataframe tbody tr th:only-of-type {\n",
              "        vertical-align: middle;\n",
              "    }\n",
              "\n",
              "    .dataframe tbody tr th {\n",
              "        vertical-align: top;\n",
              "    }\n",
              "\n",
              "    .dataframe thead th {\n",
              "        text-align: right;\n",
              "    }\n",
              "</style>\n",
              "<table border=\"1\" class=\"dataframe\">\n",
              "  <thead>\n",
              "    <tr style=\"text-align: right;\">\n",
              "      <th></th>\n",
              "      <th>id</th>\n",
              "      <th>name</th>\n",
              "      <th>host_id</th>\n",
              "      <th>host_name</th>\n",
              "      <th>neighbourhood_group</th>\n",
              "      <th>neighbourhood</th>\n",
              "      <th>latitude</th>\n",
              "      <th>longitude</th>\n",
              "      <th>room_type</th>\n",
              "      <th>price</th>\n",
              "      <th>minimum_nights</th>\n",
              "      <th>number_of_reviews</th>\n",
              "      <th>last_review</th>\n",
              "      <th>reviews_per_month</th>\n",
              "      <th>calculated_host_listings_count</th>\n",
              "      <th>availability_365</th>\n",
              "    </tr>\n",
              "  </thead>\n",
              "  <tbody>\n",
              "    <tr>\n",
              "      <th>0</th>\n",
              "      <td>41339</td>\n",
              "      <td>Porto city flat near the sea</td>\n",
              "      <td>180050</td>\n",
              "      <td>Paula</td>\n",
              "      <td>PORTO</td>\n",
              "      <td>Lordelo do Ouro e Massarelos</td>\n",
              "      <td>41.14894</td>\n",
              "      <td>-8.66113</td>\n",
              "      <td>Entire home/apt</td>\n",
              "      <td>58</td>\n",
              "      <td>2</td>\n",
              "      <td>17</td>\n",
              "      <td>2018-09-28</td>\n",
              "      <td>0.21</td>\n",
              "      <td>1</td>\n",
              "      <td>210</td>\n",
              "    </tr>\n",
              "    <tr>\n",
              "      <th>1</th>\n",
              "      <td>42462</td>\n",
              "      <td>Large Penthouse in Vila Nova Gaia</td>\n",
              "      <td>185492</td>\n",
              "      <td>Gabriela</td>\n",
              "      <td>VILA NOVA DE GAIA</td>\n",
              "      <td>Mafamude e Vilar do Paraíso</td>\n",
              "      <td>41.10739</td>\n",
              "      <td>-8.59430</td>\n",
              "      <td>Entire home/apt</td>\n",
              "      <td>50</td>\n",
              "      <td>4</td>\n",
              "      <td>39</td>\n",
              "      <td>2018-10-14</td>\n",
              "      <td>0.46</td>\n",
              "      <td>3</td>\n",
              "      <td>31</td>\n",
              "    </tr>\n",
              "    <tr>\n",
              "      <th>2</th>\n",
              "      <td>55111</td>\n",
              "      <td>Fontielas Houses |Floor1 in House with shared ...</td>\n",
              "      <td>259711</td>\n",
              "      <td>Isabel E João</td>\n",
              "      <td>PAREDES</td>\n",
              "      <td>Cete</td>\n",
              "      <td>41.17481</td>\n",
              "      <td>-8.35362</td>\n",
              "      <td>Entire home/apt</td>\n",
              "      <td>66</td>\n",
              "      <td>4</td>\n",
              "      <td>14</td>\n",
              "      <td>2019-09-07</td>\n",
              "      <td>0.26</td>\n",
              "      <td>3</td>\n",
              "      <td>0</td>\n",
              "    </tr>\n",
              "    <tr>\n",
              "      <th>3</th>\n",
              "      <td>70925</td>\n",
              "      <td>APARTMENT WITH THE BEST CITY VIEW</td>\n",
              "      <td>361205</td>\n",
              "      <td>Miguel</td>\n",
              "      <td>VILA NOVA DE GAIA</td>\n",
              "      <td>Santa Marinha e São Pedro da Afurada</td>\n",
              "      <td>41.13810</td>\n",
              "      <td>-8.61108</td>\n",
              "      <td>Entire home/apt</td>\n",
              "      <td>97</td>\n",
              "      <td>4</td>\n",
              "      <td>56</td>\n",
              "      <td>2019-10-17</td>\n",
              "      <td>0.56</td>\n",
              "      <td>2</td>\n",
              "      <td>349</td>\n",
              "    </tr>\n",
              "    <tr>\n",
              "      <th>4</th>\n",
              "      <td>73828</td>\n",
              "      <td>Fontielas Houses |Floor0 in House with shared ...</td>\n",
              "      <td>259711</td>\n",
              "      <td>Isabel E João</td>\n",
              "      <td>PAREDES</td>\n",
              "      <td>Cete</td>\n",
              "      <td>41.17449</td>\n",
              "      <td>-8.35426</td>\n",
              "      <td>Entire home/apt</td>\n",
              "      <td>66</td>\n",
              "      <td>4</td>\n",
              "      <td>8</td>\n",
              "      <td>2019-07-22</td>\n",
              "      <td>0.14</td>\n",
              "      <td>3</td>\n",
              "      <td>0</td>\n",
              "    </tr>\n",
              "  </tbody>\n",
              "</table>\n",
              "</div>"
            ],
            "text/plain": [
              "      id  ... availability_365\n",
              "0  41339  ...              210\n",
              "1  42462  ...               31\n",
              "2  55111  ...                0\n",
              "3  70925  ...              349\n",
              "4  73828  ...                0\n",
              "\n",
              "[5 rows x 16 columns]"
            ]
          },
          "metadata": {
            "tags": []
          },
          "execution_count": 5
        }
      ]
    },
    {
      "cell_type": "markdown",
      "metadata": {
        "id": "6-B_qtEaYEd-",
        "colab_type": "text"
      },
      "source": [
        "### **Q1. Quantos atributos (variáveis) e quantas entradas o nosso conjunto de dados possui? Quais os tipos das variáveis?**"
      ]
    },
    {
      "cell_type": "markdown",
      "metadata": {
        "id": "l81z89bpB9H3",
        "colab_type": "text"
      },
      "source": [
        "Vamos prosseguir e identificar a quantidade de entradas que nosso conjunto de dados possui e ver os tipos de cada coluna."
      ]
    },
    {
      "cell_type": "code",
      "metadata": {
        "id": "TFRK0tniLV-G",
        "colab_type": "code",
        "outputId": "ed987d6d-72da-4dce-ca3e-44a4fbc980ee",
        "colab": {
          "base_uri": "https://localhost:8080/",
          "height": 340
        }
      },
      "source": [
        "# identificar o volume de dados do DataFrame\n",
        "print(\"Variáveis:\\t {}\".format(df.shape[0]))\n",
        "print(\"Entrada:\\t {}\".format(df.shape[1]))\n",
        "\n",
        "# verificar as 5 primeiras entradas do dataset\n",
        "display(df.dtypes)\n"
      ],
      "execution_count": 0,
      "outputs": [
        {
          "output_type": "stream",
          "text": [
            "Variáveis:\t 11656\n",
            "Entrada:\t 16\n"
          ],
          "name": "stdout"
        },
        {
          "output_type": "display_data",
          "data": {
            "text/plain": [
              "id                                  int64\n",
              "name                               object\n",
              "host_id                             int64\n",
              "host_name                          object\n",
              "neighbourhood_group                object\n",
              "neighbourhood                      object\n",
              "latitude                          float64\n",
              "longitude                         float64\n",
              "room_type                          object\n",
              "price                               int64\n",
              "minimum_nights                      int64\n",
              "number_of_reviews                   int64\n",
              "last_review                        object\n",
              "reviews_per_month                 float64\n",
              "calculated_host_listings_count      int64\n",
              "availability_365                    int64\n",
              "dtype: object"
            ]
          },
          "metadata": {
            "tags": []
          }
        }
      ]
    },
    {
      "cell_type": "markdown",
      "metadata": {
        "id": "yz1urSUGW9iE",
        "colab_type": "text"
      },
      "source": [
        "### **Q2. Qual a porcentagem de valores ausentes no *dataset*?**"
      ]
    },
    {
      "cell_type": "markdown",
      "metadata": {
        "id": "cuz2_972CEhB",
        "colab_type": "text"
      },
      "source": [
        "A qualidade de um dataset está diretamente relacionada à quantidade de valores ausentes. É importante entender logo no início se esses valores nulos são significativos comparados ao total de entradas.\n",
        "\n",
        "* Como pode ser visto quase todos os valores estão presentes\n",
        "* Além disso, *reviews_per_month*, *last_review* possuem apenas 13% de variaveis faltantes, monstrando ser um número baixo e com isso podendo trabalhar perfeitamente."
      ]
    },
    {
      "cell_type": "code",
      "metadata": {
        "id": "plk2FjbCXOqP",
        "colab_type": "code",
        "outputId": "f129b126-5b6b-4d05-b1b1-9c330b56e410",
        "colab": {
          "base_uri": "https://localhost:8080/",
          "height": 306
        }
      },
      "source": [
        "# ordenar em ordem decrescente as variáveis por seus valores ausentes\n",
        "(df.isnull().sum() / df.shape[0]).sort_values(ascending=False)\n"
      ],
      "execution_count": 0,
      "outputs": [
        {
          "output_type": "execute_result",
          "data": {
            "text/plain": [
              "reviews_per_month                 0.133751\n",
              "last_review                       0.133751\n",
              "host_name                         0.003003\n",
              "name                              0.000172\n",
              "availability_365                  0.000000\n",
              "calculated_host_listings_count    0.000000\n",
              "number_of_reviews                 0.000000\n",
              "minimum_nights                    0.000000\n",
              "price                             0.000000\n",
              "room_type                         0.000000\n",
              "longitude                         0.000000\n",
              "latitude                          0.000000\n",
              "neighbourhood                     0.000000\n",
              "neighbourhood_group               0.000000\n",
              "host_id                           0.000000\n",
              "id                                0.000000\n",
              "dtype: float64"
            ]
          },
          "metadata": {
            "tags": []
          },
          "execution_count": 7
        }
      ]
    },
    {
      "cell_type": "markdown",
      "metadata": {
        "id": "iHXvvHIxaoNc",
        "colab_type": "text"
      },
      "source": [
        "### **Q3. Qual o tipo de distribuição das variáveis?** "
      ]
    },
    {
      "cell_type": "markdown",
      "metadata": {
        "id": "YcduDNKPELuF",
        "colab_type": "text"
      },
      "source": [
        "Para identificar a distribuição das variáveis, um histograma irá ser mostrado."
      ]
    },
    {
      "cell_type": "code",
      "metadata": {
        "id": "q2wWSfeRbmBo",
        "colab_type": "code",
        "outputId": "f6f7eed6-c4e3-4289-dc40-10996e99748d",
        "colab": {
          "base_uri": "https://localhost:8080/",
          "height": 828
        }
      },
      "source": [
        "# plotar o histograma das variáveis numéricas\n",
        "df.hist(bins=15, figsize=(15,10))\n"
      ],
      "execution_count": 0,
      "outputs": [
        {
          "output_type": "execute_result",
          "data": {
            "text/plain": [
              "array([[<matplotlib.axes._subplots.AxesSubplot object at 0x7f5a286927f0>,\n",
              "        <matplotlib.axes._subplots.AxesSubplot object at 0x7f5a2767b198>,\n",
              "        <matplotlib.axes._subplots.AxesSubplot object at 0x7f5a2762e748>],\n",
              "       [<matplotlib.axes._subplots.AxesSubplot object at 0x7f5a275dfcf8>,\n",
              "        <matplotlib.axes._subplots.AxesSubplot object at 0x7f5a2759b2e8>,\n",
              "        <matplotlib.axes._subplots.AxesSubplot object at 0x7f5a275cc898>],\n",
              "       [<matplotlib.axes._subplots.AxesSubplot object at 0x7f5a2757ee48>,\n",
              "        <matplotlib.axes._subplots.AxesSubplot object at 0x7f5a2753b470>,\n",
              "        <matplotlib.axes._subplots.AxesSubplot object at 0x7f5a2753b4a8>],\n",
              "       [<matplotlib.axes._subplots.AxesSubplot object at 0x7f5a2749bf98>,\n",
              "        <matplotlib.axes._subplots.AxesSubplot object at 0x7f5a27459588>,\n",
              "        <matplotlib.axes._subplots.AxesSubplot object at 0x7f5a2748ab38>]],\n",
              "      dtype=object)"
            ]
          },
          "metadata": {
            "tags": []
          },
          "execution_count": 8
        },
        {
          "output_type": "display_data",
          "data": {
            "image/png": "[encoded data removed]",
            "text/plain": [
              "<Figure size 1080x720 with 12 Axes>"
            ]
          },
          "metadata": {
            "tags": []
          }
        }
      ]
    },
    {
      "cell_type": "markdown",
      "metadata": {
        "id": "IIAwASQyYUO3",
        "colab_type": "text"
      },
      "source": [
        "### **Q4. Há outliers presentes?**\n",
        "\n"
      ]
    },
    {
      "cell_type": "markdown",
      "metadata": {
        "id": "ba1xYYTug6bX",
        "colab_type": "text"
      },
      "source": [
        "Pela distribuição do histograma, é possível verificar indícios da presença de *outliers*. Olhe por exemplo as variáveis *price* e *minimum_nights*.\n",
        "\n",
        "Os valores não seguem uma distruição, e distorcem toda a representação gráfica. Para confirmar, há duas maneiras rápidas que auxiliam a detecção de *outliers*. São elas:\n",
        "\n",
        "* Resumo estatístico por meio do método `describe()`\n",
        "* Plotar `boxplots` para a variável."
      ]
    },
    {
      "cell_type": "code",
      "metadata": {
        "id": "VmGmcFYXY6HO",
        "colab_type": "code",
        "outputId": "44aa631b-69ef-4e51-cc16-b81166f0d1c3",
        "colab": {
          "base_uri": "https://localhost:8080/",
          "height": 297
        }
      },
      "source": [
        "# ver o resumo estatísticos das variaveis númericas \n",
        "df[['price', 'minimum_nights']].describe()"
      ],
      "execution_count": 0,
      "outputs": [
        {
          "output_type": "execute_result",
          "data": {
            "text/html": [
              "<div>\n",
              "<style scoped>\n",
              "    .dataframe tbody tr th:only-of-type {\n",
              "        vertical-align: middle;\n",
              "    }\n",
              "\n",
              "    .dataframe tbody tr th {\n",
              "        vertical-align: top;\n",
              "    }\n",
              "\n",
              "    .dataframe thead th {\n",
              "        text-align: right;\n",
              "    }\n",
              "</style>\n",
              "<table border=\"1\" class=\"dataframe\">\n",
              "  <thead>\n",
              "    <tr style=\"text-align: right;\">\n",
              "      <th></th>\n",
              "      <th>price</th>\n",
              "      <th>minimum_nights</th>\n",
              "    </tr>\n",
              "  </thead>\n",
              "  <tbody>\n",
              "    <tr>\n",
              "      <th>count</th>\n",
              "      <td>11656.000000</td>\n",
              "      <td>11656.000000</td>\n",
              "    </tr>\n",
              "    <tr>\n",
              "      <th>mean</th>\n",
              "      <td>81.684626</td>\n",
              "      <td>2.476750</td>\n",
              "    </tr>\n",
              "    <tr>\n",
              "      <th>std</th>\n",
              "      <td>164.528976</td>\n",
              "      <td>7.782002</td>\n",
              "    </tr>\n",
              "    <tr>\n",
              "      <th>min</th>\n",
              "      <td>0.000000</td>\n",
              "      <td>1.000000</td>\n",
              "    </tr>\n",
              "    <tr>\n",
              "      <th>25%</th>\n",
              "      <td>42.000000</td>\n",
              "      <td>1.000000</td>\n",
              "    </tr>\n",
              "    <tr>\n",
              "      <th>50%</th>\n",
              "      <td>60.000000</td>\n",
              "      <td>2.000000</td>\n",
              "    </tr>\n",
              "    <tr>\n",
              "      <th>75%</th>\n",
              "      <td>85.000000</td>\n",
              "      <td>2.000000</td>\n",
              "    </tr>\n",
              "    <tr>\n",
              "      <th>max</th>\n",
              "      <td>8509.000000</td>\n",
              "      <td>365.000000</td>\n",
              "    </tr>\n",
              "  </tbody>\n",
              "</table>\n",
              "</div>"
            ],
            "text/plain": [
              "              price  minimum_nights\n",
              "count  11656.000000    11656.000000\n",
              "mean      81.684626        2.476750\n",
              "std      164.528976        7.782002\n",
              "min        0.000000        1.000000\n",
              "25%       42.000000        1.000000\n",
              "50%       60.000000        2.000000\n",
              "75%       85.000000        2.000000\n",
              "max     8509.000000      365.000000"
            ]
          },
          "metadata": {
            "tags": []
          },
          "execution_count": 10
        }
      ]
    },
    {
      "cell_type": "markdown",
      "metadata": {
        "id": "GKZrC_RtcjRB",
        "colab_type": "text"
      },
      "source": [
        "Olhando o resumo estatístico acima, podemos confirmar algumas hipóteses como:\n",
        "\n",
        "* A variável *price* possui 75% do valor abaixo de 85, porém seu valor máximo é 8509\n",
        "\n",
        "### Boxplot para price, segue abaixo:\n"
      ]
    },
    {
      "cell_type": "code",
      "metadata": {
        "id": "zLP3V7zJdsoj",
        "colab_type": "code",
        "outputId": "8b1e1737-3fae-49dc-f14b-ebb97ac8eab7",
        "colab": {
          "base_uri": "https://localhost:8080/",
          "height": 279
        }
      },
      "source": [
        "# price\n",
        "df.price.plot(kind='box', vert=False, figsize=(15, 3))\n",
        "plt.show()\n",
        "\n",
        "# ver quantidades de valores acima de 1000 para price \n",
        "print(\"\\nprice: valores acima de 1000\")\n",
        "print(\"{} entradas \".format(len(df[df.price > 1000])))\n",
        "print(\"{:4f}%\".format((len(df[df.price > 1000]) / df.shape[0])*100))"
      ],
      "execution_count": 0,
      "outputs": [
        {
          "output_type": "display_data",
          "data": {
            "image/png": "[encoded data removed]",
            "text/plain": [
              "<Figure size 1080x216 with 1 Axes>"
            ]
          },
          "metadata": {
            "tags": []
          }
        },
        {
          "output_type": "stream",
          "text": [
            "\n",
            "price: valores acima de 1000\n",
            "35 entradas \n",
            "0.300275%\n"
          ],
          "name": "stdout"
        }
      ]
    },
    {
      "cell_type": "markdown",
      "metadata": {
        "id": "zBl9whbJhZER",
        "colab_type": "text"
      },
      "source": [
        "### Boxplot para minimun_nights, segue abaixo:"
      ]
    },
    {
      "cell_type": "code",
      "metadata": {
        "id": "9a_mT-cRhhK0",
        "colab_type": "code",
        "outputId": "c7ca0cc6-3e36-449d-f5f4-1ac421179b26",
        "colab": {
          "base_uri": "https://localhost:8080/",
          "height": 279
        }
      },
      "source": [
        "# minimum_nights\n",
        "df.minimum_nights.plot(kind='box', vert=False, figsize=(15, 3))\n",
        "plt.show()\n",
        "\n",
        "# ver quantidades de valores acima de 40 para minimum_nights\n",
        "print(\"\\nminimum_nights: valores de acima de 40\")\n",
        "print(\"{}entradas\".format(len(df[df.minimum_nights > 40])))\n",
        "print(\"{:4f}%\".format((len(df[df.minimum_nights > 40]) / df.shape[0])*100))\n"
      ],
      "execution_count": 0,
      "outputs": [
        {
          "output_type": "display_data",
          "data": {
            "image/png": "[encoded data removed]",
            "text/plain": [
              "<Figure size 1080x216 with 1 Axes>"
            ]
          },
          "metadata": {
            "tags": []
          }
        },
        {
          "output_type": "stream",
          "text": [
            "\n",
            "minimum_nights: valores de acima de 40\n",
            "17entradas\n",
            "0.145848%\n"
          ],
          "name": "stdout"
        }
      ]
    },
    {
      "cell_type": "markdown",
      "metadata": {
        "id": "yhrsB3n031id",
        "colab_type": "text"
      },
      "source": [
        "### Histogramas sem outliers\n",
        "\n",
        "Já que foi possível indentificar os *outliers* nas variáveis *price* e *minimum_nights*, agora o DataFrame ficará mais \"real\""
      ]
    },
    {
      "cell_type": "code",
      "metadata": {
        "id": "A6QgTl_M4mEQ",
        "colab_type": "code",
        "outputId": "ee3f025e-b81e-4502-95b0-98340f270f70",
        "colab": {
          "base_uri": "https://localhost:8080/",
          "height": 607
        }
      },
      "source": [
        "# remover os outliers\n",
        "df_clean = df.copy()\n",
        "df_clean.drop(df_clean[df_clean.price > 1000].index, axis=0, inplace=True)\n",
        "df_clean.drop(df_clean[df_clean.minimum_nights > 40].index, axis=0, inplace=True)\n",
        "\n",
        "df_clean.hist(bins=15, figsize=(15, 10));"
      ],
      "execution_count": 0,
      "outputs": [
        {
          "output_type": "display_data",
          "data": {
            "image/png": "[encoded data removed]",
            "text/plain": [
              "<Figure size 1080x720 with 12 Axes>"
            ]
          },
          "metadata": {
            "tags": []
          }
        }
      ]
    },
    {
      "cell_type": "markdown",
      "metadata": {
        "id": "7x4aw1j5wNmn",
        "colab_type": "text"
      },
      "source": [
        "### **Q5. Qual a média dos preços de aluguel?**"
      ]
    },
    {
      "cell_type": "code",
      "metadata": {
        "id": "ff-8gUahLk-C",
        "colab_type": "code",
        "outputId": "4028d8df-8102-4487-e1e8-1fca8d39f3c0",
        "colab": {
          "base_uri": "https://localhost:8080/",
          "height": 34
        }
      },
      "source": [
        "# ver a média da coluna `price``\n",
        "df_clean.price.mean()\n"
      ],
      "execution_count": 0,
      "outputs": [
        {
          "output_type": "execute_result",
          "data": {
            "text/plain": [
              "75.27195174493752"
            ]
          },
          "metadata": {
            "tags": []
          },
          "execution_count": 63
        }
      ]
    },
    {
      "cell_type": "markdown",
      "metadata": {
        "id": "2XFt8hQV_egq",
        "colab_type": "text"
      },
      "source": [
        "Podemos ver que a média de preço de aluguel seria 75,30 a moeda do lugar em especifico, nesse caso Euro."
      ]
    },
    {
      "cell_type": "markdown",
      "metadata": {
        "id": "IXn2oIo5qx-w",
        "colab_type": "text"
      },
      "source": [
        "### **Q6. Qual a correlação existente entre as variáveis**"
      ]
    },
    {
      "cell_type": "markdown",
      "metadata": {
        "id": "HjGvimO6CSOR",
        "colab_type": "text"
      },
      "source": [
        "Agora uma busca de relação e/ou semelhança entre duas variáveis será feita."
      ]
    },
    {
      "cell_type": "code",
      "metadata": {
        "id": "x2ayzBajqxyd",
        "colab_type": "code",
        "outputId": "3bc9d485-4e2b-4cdc-8555-2479148ca5fb",
        "colab": {
          "base_uri": "https://localhost:8080/",
          "height": 235
        }
      },
      "source": [
        "# criar uma matriz de correlação\n",
        "corr = df_clean[['price', 'reviews_per_month', 'minimum_nights', 'number_of_reviews','availability_365', 'calculated_host_listings_count']].corr()\n",
        "display(corr)\n",
        "\n",
        "# mostrar a matriz de correlação\n"
      ],
      "execution_count": 0,
      "outputs": [
        {
          "output_type": "display_data",
          "data": {
            "text/html": [
              "<div>\n",
              "<style scoped>\n",
              "    .dataframe tbody tr th:only-of-type {\n",
              "        vertical-align: middle;\n",
              "    }\n",
              "\n",
              "    .dataframe tbody tr th {\n",
              "        vertical-align: top;\n",
              "    }\n",
              "\n",
              "    .dataframe thead th {\n",
              "        text-align: right;\n",
              "    }\n",
              "</style>\n",
              "<table border=\"1\" class=\"dataframe\">\n",
              "  <thead>\n",
              "    <tr style=\"text-align: right;\">\n",
              "      <th></th>\n",
              "      <th>price</th>\n",
              "      <th>reviews_per_month</th>\n",
              "      <th>minimum_nights</th>\n",
              "      <th>number_of_reviews</th>\n",
              "      <th>availability_365</th>\n",
              "      <th>calculated_host_listings_count</th>\n",
              "    </tr>\n",
              "  </thead>\n",
              "  <tbody>\n",
              "    <tr>\n",
              "      <th>price</th>\n",
              "      <td>1.000000</td>\n",
              "      <td>-0.108499</td>\n",
              "      <td>-0.032710</td>\n",
              "      <td>-0.115443</td>\n",
              "      <td>0.094074</td>\n",
              "      <td>0.009064</td>\n",
              "    </tr>\n",
              "    <tr>\n",
              "      <th>reviews_per_month</th>\n",
              "      <td>-0.108499</td>\n",
              "      <td>1.000000</td>\n",
              "      <td>-0.121245</td>\n",
              "      <td>0.654718</td>\n",
              "      <td>0.013151</td>\n",
              "      <td>-0.090023</td>\n",
              "    </tr>\n",
              "    <tr>\n",
              "      <th>minimum_nights</th>\n",
              "      <td>-0.032710</td>\n",
              "      <td>-0.121245</td>\n",
              "      <td>1.000000</td>\n",
              "      <td>-0.066013</td>\n",
              "      <td>-0.080440</td>\n",
              "      <td>-0.060402</td>\n",
              "    </tr>\n",
              "    <tr>\n",
              "      <th>number_of_reviews</th>\n",
              "      <td>-0.115443</td>\n",
              "      <td>0.654718</td>\n",
              "      <td>-0.066013</td>\n",
              "      <td>1.000000</td>\n",
              "      <td>0.000682</td>\n",
              "      <td>-0.085238</td>\n",
              "    </tr>\n",
              "    <tr>\n",
              "      <th>availability_365</th>\n",
              "      <td>0.094074</td>\n",
              "      <td>0.013151</td>\n",
              "      <td>-0.080440</td>\n",
              "      <td>0.000682</td>\n",
              "      <td>1.000000</td>\n",
              "      <td>0.148863</td>\n",
              "    </tr>\n",
              "    <tr>\n",
              "      <th>calculated_host_listings_count</th>\n",
              "      <td>0.009064</td>\n",
              "      <td>-0.090023</td>\n",
              "      <td>-0.060402</td>\n",
              "      <td>-0.085238</td>\n",
              "      <td>0.148863</td>\n",
              "      <td>1.000000</td>\n",
              "    </tr>\n",
              "  </tbody>\n",
              "</table>\n",
              "</div>"
            ],
            "text/plain": [
              "                                   price  ...  calculated_host_listings_count\n",
              "price                           1.000000  ...                        0.009064\n",
              "reviews_per_month              -0.108499  ...                       -0.090023\n",
              "minimum_nights                 -0.032710  ...                       -0.060402\n",
              "number_of_reviews              -0.115443  ...                       -0.085238\n",
              "availability_365                0.094074  ...                        0.148863\n",
              "calculated_host_listings_count  0.009064  ...                        1.000000\n",
              "\n",
              "[6 rows x 6 columns]"
            ]
          },
          "metadata": {
            "tags": []
          }
        }
      ]
    },
    {
      "cell_type": "code",
      "metadata": {
        "id": "91UujDr6ueqE",
        "colab_type": "code",
        "outputId": "23d64107-04c6-47e8-b32e-44cc27f52cdb",
        "colab": {
          "base_uri": "https://localhost:8080/",
          "height": 411
        }
      },
      "source": [
        "# plotar um heatmap a partir das correlações\n",
        "sns.heatmap(corr, cmap='RdBu', fmt='.2f', square=True, linecolor='white', annot=True) ;"
      ],
      "execution_count": 0,
      "outputs": [
        {
          "output_type": "display_data",
          "data": {
            "image/png": "[encoded data removed]",
            "text/plain": [
              "<Figure size 432x288 with 2 Axes>"
            ]
          },
          "metadata": {
            "tags": []
          }
        }
      ]
    },
    {
      "cell_type": "markdown",
      "metadata": {
        "id": "yTJdmM6rDMQv",
        "colab_type": "text"
      },
      "source": [
        "Como visto acima, não existe correlações significativas entre as variáveis em questão, mas precisa ser lembrado que há poucas variáveis e que os dados são simplicados, como explicado no **começo** desse artigo."
      ]
    },
    {
      "cell_type": "markdown",
      "metadata": {
        "id": "7b6RMWpuHKN-",
        "colab_type": "text"
      },
      "source": [
        "### **Q7. Qual o tipo de imóvel mais alugado no Airbnb?**"
      ]
    },
    {
      "cell_type": "markdown",
      "metadata": {
        "id": "rK9GkyDzILh7",
        "colab_type": "text"
      },
      "source": [
        "A coluna da variável room_type indica o tipo de locação que está anunciada no Airbnb. Se você já alugou no site, sabe que existem opções de apartamentos/casas inteiras, apenas o aluguel de um quarto ou mesmo dividir o quarto com outras pessoas.\n",
        "\n",
        "Vamos contar a quantidade de ocorrências de cada tipo de aluguel, usando o método *value_counts().italicized text*"
      ]
    },
    {
      "cell_type": "code",
      "metadata": {
        "id": "ueLPNWvPHgfB",
        "colab_type": "code",
        "outputId": "703e7c6b-2dbe-41f7-f216-dca510e6fefa",
        "colab": {
          "base_uri": "https://localhost:8080/",
          "height": 102
        }
      },
      "source": [
        "# mostrar a quantidade de cada tipo de imóvel disponível\n",
        "df_clean.room_type.value_counts()"
      ],
      "execution_count": 0,
      "outputs": [
        {
          "output_type": "execute_result",
          "data": {
            "text/plain": [
              "Entire home/apt    8950\n",
              "Private room       2171\n",
              "Hotel room          346\n",
              "Shared room         138\n",
              "Name: room_type, dtype: int64"
            ]
          },
          "metadata": {
            "tags": []
          },
          "execution_count": 68
        }
      ]
    },
    {
      "cell_type": "code",
      "metadata": {
        "id": "EvwoO-XAHhIm",
        "colab_type": "code",
        "outputId": "e01e1a65-4361-4442-d232-6891d1f1fc47",
        "colab": {
          "base_uri": "https://localhost:8080/",
          "height": 102
        }
      },
      "source": [
        "# mostrar a porcentagem de cada tipo de imóvel disponível\n",
        "df_clean.room_type.value_counts() / df_clean.shape[0]\n"
      ],
      "execution_count": 0,
      "outputs": [
        {
          "output_type": "execute_result",
          "data": {
            "text/plain": [
              "Entire home/apt    0.771219\n",
              "Private room       0.187075\n",
              "Hotel room         0.029815\n",
              "Shared room        0.011891\n",
              "Name: room_type, dtype: float64"
            ]
          },
          "metadata": {
            "tags": []
          },
          "execution_count": 69
        }
      ]
    },
    {
      "cell_type": "markdown",
      "metadata": {
        "id": "jEB3TyaTI9Lu",
        "colab_type": "text"
      },
      "source": [
        "Como pode ser visto quase 80% dos alugueis são feitos para casas/apartamentos inteiros e ,aproximadamente, 1,5% dos alugueis são em quartos compartilhados."
      ]
    },
    {
      "cell_type": "markdown",
      "metadata": {
        "id": "MFa5NbnLJMcd",
        "colab_type": "text"
      },
      "source": [
        "### **Q8. Qual a localidade mais cara do dataset?**\n",
        "\n"
      ]
    },
    {
      "cell_type": "markdown",
      "metadata": {
        "id": "8kkjYndOKDBs",
        "colab_type": "text"
      },
      "source": [
        "Uma maneira de se verificar uma variável em função da outra é usando groupby(). No caso, queremos comparar os bairros (neighbourhoods) a partir do preço de locação."
      ]
    },
    {
      "cell_type": "code",
      "metadata": {
        "id": "MD_xa143JZpi",
        "colab_type": "code",
        "outputId": "5637adce-77a6-4087-b7ee-e159edc3a9c3",
        "colab": {
          "base_uri": "https://localhost:8080/",
          "height": 221
        }
      },
      "source": [
        "# ver preços por bairros, na média\n",
        "df_clean.groupby(['neighbourhood']).price.mean().sort_values(ascending=False)[:10]"
      ],
      "execution_count": 0,
      "outputs": [
        {
          "output_type": "execute_result",
          "data": {
            "text/plain": [
              "neighbourhood\n",
              "Negrelos (São Tomé)    597.333333\n",
              "Folgosa                255.000000\n",
              "Recarei                250.000000\n",
              "Guilhabreu             227.000000\n",
              "Água Longa             222.500000\n",
              "Melres e Medas         205.800000\n",
              "São Miguel do Mato     200.000000\n",
              "Santa Eulália          197.500000\n",
              "Alvarenga              192.857143\n",
              "São Paio de Oleiros    190.000000\n",
              "Name: price, dtype: float64"
            ]
          },
          "metadata": {
            "tags": []
          },
          "execution_count": 71
        }
      ]
    },
    {
      "cell_type": "markdown",
      "metadata": {
        "id": "PZ3ZYI-8MFIt",
        "colab_type": "text"
      },
      "source": [
        "Lembrando que existe a representabilidade que significa a quantidade de imóveis para com o bairro em questão, por exemplo se houver poucos imóveis em um bairro especifico, além disso se existir valores como 40, 500, 1000, 55, a média pode ser não-representativa. Então o melhor é conhecer os locais que estão na pesquisa e caso aconteça algum tipo de discrepancia, o melhor é fazer ver quantas entradas existe. Vou mostrar um exemplo com o bairro **São Miguel do Mato**"
      ]
    },
    {
      "cell_type": "code",
      "metadata": {
        "id": "G0Gd4aJiO7vF",
        "colab_type": "code",
        "outputId": "629be540-4772-4e98-8a16-57be448f88a8",
        "colab": {
          "base_uri": "https://localhost:8080/",
          "height": 34
        }
      },
      "source": [
        "# ver quantidade de imóveis no São Miguel do Mato\n",
        "print(df[df.neighbourhood == \"São Miguel do Mato\"].shape)"
      ],
      "execution_count": 0,
      "outputs": [
        {
          "output_type": "stream",
          "text": [
            "(1, 16)\n"
          ],
          "name": "stdout"
        }
      ]
    },
    {
      "cell_type": "markdown",
      "metadata": {
        "id": "EapDEwnCPWMs",
        "colab_type": "text"
      },
      "source": [
        "No exemplo, só existe uma entrada então só existe um valor, vamos visualiza-lo."
      ]
    },
    {
      "cell_type": "code",
      "metadata": {
        "id": "2KhD7tzsPrJZ",
        "colab_type": "code",
        "outputId": "a7e6bb52-bb6a-4f18-9445-67d543fe3742",
        "colab": {
          "base_uri": "https://localhost:8080/",
          "height": 236
        }
      },
      "source": [
        "# ver a entrada do São Miguel do Mato\n",
        "df[df.neighbourhood == \"São Miguel do Mato\"]"
      ],
      "execution_count": 0,
      "outputs": [
        {
          "output_type": "execute_result",
          "data": {
            "text/html": [
              "<div>\n",
              "<style scoped>\n",
              "    .dataframe tbody tr th:only-of-type {\n",
              "        vertical-align: middle;\n",
              "    }\n",
              "\n",
              "    .dataframe tbody tr th {\n",
              "        vertical-align: top;\n",
              "    }\n",
              "\n",
              "    .dataframe thead th {\n",
              "        text-align: right;\n",
              "    }\n",
              "</style>\n",
              "<table border=\"1\" class=\"dataframe\">\n",
              "  <thead>\n",
              "    <tr style=\"text-align: right;\">\n",
              "      <th></th>\n",
              "      <th>id</th>\n",
              "      <th>name</th>\n",
              "      <th>host_id</th>\n",
              "      <th>host_name</th>\n",
              "      <th>neighbourhood_group</th>\n",
              "      <th>neighbourhood</th>\n",
              "      <th>latitude</th>\n",
              "      <th>longitude</th>\n",
              "      <th>room_type</th>\n",
              "      <th>price</th>\n",
              "      <th>minimum_nights</th>\n",
              "      <th>number_of_reviews</th>\n",
              "      <th>last_review</th>\n",
              "      <th>reviews_per_month</th>\n",
              "      <th>calculated_host_listings_count</th>\n",
              "      <th>availability_365</th>\n",
              "    </tr>\n",
              "  </thead>\n",
              "  <tbody>\n",
              "    <tr>\n",
              "      <th>3128</th>\n",
              "      <td>16943451</td>\n",
              "      <td>Lomba da Pereira-Casa de Campo c/ piscina  AL4...</td>\n",
              "      <td>113254482</td>\n",
              "      <td>Manuel</td>\n",
              "      <td>AROUCA</td>\n",
              "      <td>São Miguel do Mato</td>\n",
              "      <td>40.96894</td>\n",
              "      <td>-8.41143</td>\n",
              "      <td>Entire home/apt</td>\n",
              "      <td>200</td>\n",
              "      <td>2</td>\n",
              "      <td>26</td>\n",
              "      <td>2019-08-25</td>\n",
              "      <td>0.81</td>\n",
              "      <td>1</td>\n",
              "      <td>0</td>\n",
              "    </tr>\n",
              "  </tbody>\n",
              "</table>\n",
              "</div>"
            ],
            "text/plain": [
              "            id  ... availability_365\n",
              "3128  16943451  ...                0\n",
              "\n",
              "[1 rows x 16 columns]"
            ]
          },
          "metadata": {
            "tags": []
          },
          "execution_count": 73
        }
      ]
    },
    {
      "cell_type": "markdown",
      "metadata": {
        "id": "Sv-IkDmeP49X",
        "colab_type": "text"
      },
      "source": [
        "Isso mostra exatamente os problemas que podem ocorrer, então precisa ter muito cuidado com os dados que estão sendo processados. Os dados desse artigo são mais simples e mais simplificados então com dados mais robustos isso pode mudar um pouco."
      ]
    },
    {
      "cell_type": "markdown",
      "metadata": {
        "id": "nhnJY-fJRBBQ",
        "colab_type": "text"
      },
      "source": [
        "## **Como saber cada ponto onde os imoveis estão localizados ?**\n",
        "\n",
        "* Como sabemos a latitude e a logintude, conseguimos saber exatamente onde cada imóvel se localiza.\n",
        "* Com isso usaremos x = longitute e y = latitude\n",
        "* Além disso, pode ser visto valores conforme a linha ao lado do mapa. "
      ]
    },
    {
      "cell_type": "code",
      "metadata": {
        "id": "YdxuWkkmRShN",
        "colab_type": "code",
        "outputId": "f157042e-e136-4a37-f8d2-cfbb55bcf63f",
        "colab": {
          "base_uri": "https://localhost:8080/",
          "height": 476
        }
      },
      "source": [
        "df_clean.plot(kind=\"scatter\", x='longitude', y='latitude', alpha=0.4, c=df_clean['price'], s=8, \n",
        "              cmap=plt.get_cmap('jet'), figsize=(12, 8)) ;"
      ],
      "execution_count": 0,
      "outputs": [
        {
          "output_type": "display_data",
          "data": {
            "image/png": "[encoded data removed]",
            "text/plain": [
              "<Figure size 864x576 with 2 Axes>"
            ]
          },
          "metadata": {
            "tags": []
          }
        }
      ]
    },
    {
      "cell_type": "markdown",
      "metadata": {
        "id": "vTneAMRUYvr1",
        "colab_type": "text"
      },
      "source": [
        "### **Q9. Qual é a média do mínimo de noites para aluguel (minimum_nights)?**"
      ]
    },
    {
      "cell_type": "code",
      "metadata": {
        "id": "_VzNhrEgY82N",
        "colab_type": "code",
        "outputId": "078e8e8b-3b67-44b1-cf21-edf1f6a8b143",
        "colab": {
          "base_uri": "https://localhost:8080/",
          "height": 34
        }
      },
      "source": [
        "# ver a média da coluna `minimum_nights``\n",
        "df_clean.minimum_nights.mean()\n",
        "\n"
      ],
      "execution_count": 0,
      "outputs": [
        {
          "output_type": "execute_result",
          "data": {
            "text/plain": [
              "2.242654028436019"
            ]
          },
          "metadata": {
            "tags": []
          },
          "execution_count": 75
        }
      ]
    },
    {
      "cell_type": "markdown",
      "metadata": {
        "id": "_-Z8G_lNjKEY",
        "colab_type": "text"
      },
      "source": [
        "Pode ser visto que a média são duas noites, o que mostra, talvez, um fim de semana(Sábado e domingo)"
      ]
    },
    {
      "cell_type": "markdown",
      "metadata": {
        "id": "GkvAg623RjoR",
        "colab_type": "text"
      },
      "source": [
        "## Conclusões\n"
      ]
    },
    {
      "cell_type": "markdown",
      "metadata": {
        "colab_type": "text",
        "id": "SZUGwogUkkrq"
      },
      "source": [
        "\n",
        "\n",
        "* Foi feita apenas uma análise superficial na base de dados do Airbnb, porém já se percebeu que existem *outliers* em algumas das variáveis. \n",
        "\n",
        "* Também se notou que em algumas localidades há poucos imóveis disponíveis, o que pode distorcer as informações estatísticas de alguns atributos.\n",
        "\n",
        "* Por fim, lembra-se que este *dataset* é uma versão resumida, ideal apenas para uma abordagem inicial. Recomenda-se que seja usado, em uma próxima análise exploratória, o conjunto de dados completos."
      ]
    }
  ]
}