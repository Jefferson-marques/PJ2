{
  "nbformat": 4,
  "nbformat_minor": 0,
  "metadata": {
    "colab": {
      "name": " Analisando os Feminicidios no Rio de Janeirob.ipynb",
      "provenance": [],
      "collapsed_sections": [],
      "include_colab_link": true
    },
    "kernelspec": {
      "name": "python3",
      "display_name": "Python 3"
    }
  },
  "cells": [
    {
      "cell_type": "markdown",
      "metadata": {
        "id": "view-in-github",
        "colab_type": "text"
      },
      "source": [
        "<a href=\"https://colab.research.google.com/github/Jefferson-marques/PJ2/blob/master/Analisando_os_Feminicidios_no_Rio_de_Janeirob.ipynb\" target=\"_parent\"><img src=\"https://colab.research.google.com/assets/colab-badge.svg\" alt=\"Open In Colab\"/></a>"
      ]
    },
    {
      "cell_type": "markdown",
      "metadata": {
        "id": "kLI0gJtzDGuQ",
        "colab_type": "text"
      },
      "source": [
        "\n",
        "\n",
        "# Analisando os casos de Feminicidio no Rio de Janeiro\n",
        "\n",
        "O feminicídio é o homicídio praticado contra a mulher em decorrência do fato de ela ser mulher (misoginia e menosprezo pela condição feminina ou discriminação de gênero, fatores que também podem envolver violência sexual) ou em decorrência de violência doméstica. A lei 13.104/15, mais conhecida como Lei do Feminicídio, alterou o Código Penal brasileiro, incluindo como qualificador do crime de homicídio o feminicídio.\n",
        "\n",
        "**Tipos de feminicídio**\n",
        "\n",
        "A Lei do Feminicídio não enquadra, indiscriminadamente, qualquer assassinato de mulheres como um ato de feminicídio. O desconhecimento do conteúdo da lei levou diversos setores, principalmente os mais conservadores, a questionarem a necessidade de sua implementação. Devemos ter em mente que a lei somente aplica-se nos casos descritos a seguir:\n",
        "\n",
        "Violência doméstica ou familiar: quando o crime resulta da violência doméstica ou é praticado junto a ela, ou seja, quando o homicida é um familiar da vítima ou já manteve algum tipo de laço afetivo com ela. Esse tipo de feminicídio é o mais comum no Brasil, ao contrário de outros países da América Latina, em que a violência contra a mulher é praticada, comumente, por desconhecidos, geralmente com a presença de violência sexual.\n",
        "\n",
        "Menosprezo ou discriminação contra a condição da mulher: quando o crime resulta da discriminação de gênero, manifestada pela misoginia e pela objetificação da mulher.\n",
        "\n",
        "Quando o assassinato de uma mulher é decorrente, por exemplo, de latrocínio (roubo seguido de morte) ou de uma briga simples entre desconhecidos ou é praticado por outra mulher, não há a configuração de feminicídio. O feminicídio somente qualificará um homicídio nos casos descritos nos tópicos acima.\n",
        "\n",
        "Objetivo e a importância da Lei do Feminicídio\n",
        "Em razão dos altíssimos índices de crimes cometidos contra as mulheres que fazem o Brasil assumir o quinto lugar no ranking mundial da violência contra a mulher, há a necessidade urgente de leis que tratem com rigidez tal tipo de crime. Dados do Mapa da Violência revelam que, somente em 2017, ocorreram mais de 60 mil estupros no Brasil. Além disso, a nossa cultura ainda se conforma com a discriminação da mulher por meio da prática, expressa ou velada, da misoginia e do patriarcalismo. Isso causa a objetificação da mulher, o que resulta, em casos mais graves, no feminicídio.\n",
        "\n",
        "A imensa quantidade de crimes cometidos contra as mulheres e os altos índices de feminicídio apresentam justificativas suficientes para a implantação da lei 13.104/15. Além disso, são necessárias políticas públicas que promovam a igualdade de gênero por meio da educação, da valorização da mulher e da fiscalização das leis vigentes.\n",
        "\n",
        "**Feminicídio no Brasil**\n",
        "\n",
        "Segundo o Instituto de Pesquisa Econômica Aplicada (IPEA), entre 2007 e 2011, ocorreu, em média, um feminicídio a cada uma hora e meia no Brasil, o que resultou em um total de 28.800 feminicídios registrados no período. O Mapa da Violência de 2015 aponta a ocorrência de 13 feminicídios por dia no Brasil contra os 16 apontados na amostragem do IPEA de 2007 a 2011.\n",
        "\n",
        "A maior parte desses crimes é praticada por homens que vivem ou viveram com a vítima, sendo namorados, parceiros sexuais ou maridos. Além dos altos índices de feminicídio, existem ainda muitos casos de estupro e lesão corporal gerada por violência doméstica.\n",
        "\n",
        "Diante de tantos dados de crimes cometidos contra as mulheres e do fato de o Brasil ocupar o quinto lugar no ranking de violência contra a mulher (ficando à frente de países árabes em que a Lei Islâmica é incorporada no sistema legal oficial), é necessário pensar a origem de tanta violência.\n"
      ]
    },
    {
      "cell_type": "markdown",
      "metadata": {
        "id": "0zxQHhIUDF_2",
        "colab_type": "text"
      },
      "source": [
        "## Obtenção dos Dados\n",
        "\n",
        "\n",
        "Os dados foram obtidos diretamento do portal ISPDados, que é uma página de Dados Abertos do Instituto de Segurança Pública do Rio de Janeiro.\n",
        "\n",
        "As estatísticas divulgadas no portal são construídas a partir dos Registros de Ocorrência (RO) lavrados nas delegacias de Polícia Civil do Estado do Rio de Janeiro, além de informações complementares de órgãos específicos da Polícia Militar do Estado do Rio de Janeiro.\n",
        "\n",
        "Como forma de criar um controle de qualidade, antes de serem consolidados no ISP os RO são submetidos à Corregedoria Interna da Polícia Civil (COINPOL). As estatísticas produzidas baseiam-se na data em que foi confeccionado o Registro de Ocorrência.\n",
        "\n",
        "Os dados podem ser encontrados aqui : http://www.ispdados.rj.gov.br/estatistica.html"
      ]
    },
    {
      "cell_type": "markdown",
      "metadata": {
        "id": "7vh4at0l90nr",
        "colab_type": "text"
      },
      "source": [
        "### Importando os dados\n",
        "\n",
        "Importe os dados, usando `df = pd.read_csv(\"endereço_do_csv\")`"
      ]
    },
    {
      "cell_type": "code",
      "metadata": {
        "id": "-XT9aq63Cq0G",
        "colab_type": "code",
        "colab": {}
      },
      "source": [
        "# importanção das bibliotecas necessárias\n",
        "import pandas as pd"
      ],
      "execution_count": 0,
      "outputs": []
    },
    {
      "cell_type": "code",
      "metadata": {
        "id": "CYLNme_OCX_R",
        "colab_type": "code",
        "colab": {}
      },
      "source": [
        "# importanção dos dados\n",
        "df = pd.read_csv(\"Dados.csv\", encoding=\"ISO-8859-1\", sep=\";\")"
      ],
      "execution_count": 0,
      "outputs": []
    },
    {
      "cell_type": "markdown",
      "metadata": {
        "id": "SX7RsEDlFUmE",
        "colab_type": "text"
      },
      "source": [
        "# Análise dos Dados\n"
      ]
    },
    {
      "cell_type": "markdown",
      "metadata": {
        "id": "yjJslKZbFw0R",
        "colab_type": "text"
      },
      "source": [
        "* Esta etapa tem por objetivo criar uma consciência situacional inicial e permitir um entendimento de como os dados estão estruturados."
      ]
    },
    {
      "cell_type": "markdown",
      "metadata": {
        "id": "NyC3zpd6Lj49",
        "colab_type": "text"
      },
      "source": [
        "### Qual o tamanho do DataFrame ?\n",
        "\n",
        "* É importante saber a quantidade de dados que estão sendo trabalhados."
      ]
    },
    {
      "cell_type": "code",
      "metadata": {
        "id": "43-e1WiFLt5L",
        "colab_type": "code",
        "outputId": "3cb0b031-ce11-4e52-b87e-10644e912fa5",
        "colab": {
          "base_uri": "https://localhost:8080/",
          "height": 34
        }
      },
      "source": [
        "# visualização de entradas e colunas.\n",
        "df.shape"
      ],
      "execution_count": 0,
      "outputs": [
        {
          "output_type": "execute_result",
          "data": {
            "text/plain": [
              "(5370, 4)"
            ]
          },
          "metadata": {
            "tags": []
          },
          "execution_count": 23
        }
      ]
    },
    {
      "cell_type": "markdown",
      "metadata": {
        "id": "d7YlkW6WLxps",
        "colab_type": "text"
      },
      "source": [
        "### Quais são as entradas e colunas disponiveis ?\n",
        "\n"
      ]
    },
    {
      "cell_type": "code",
      "metadata": {
        "id": "skaY-Our_Oe-",
        "colab_type": "code",
        "outputId": "b3d3caf9-33cc-41b1-f795-a95edaafbbcf",
        "colab": {
          "base_uri": "https://localhost:8080/",
          "height": 204
        }
      },
      "source": [
        "# visualização das 5 primeiras entradas.\n",
        "df.head(5)"
      ],
      "execution_count": 0,
      "outputs": [
        {
          "output_type": "execute_result",
          "data": {
            "text/html": [
              "<div>\n",
              "<style scoped>\n",
              "    .dataframe tbody tr th:only-of-type {\n",
              "        vertical-align: middle;\n",
              "    }\n",
              "\n",
              "    .dataframe tbody tr th {\n",
              "        vertical-align: top;\n",
              "    }\n",
              "\n",
              "    .dataframe thead th {\n",
              "        text-align: right;\n",
              "    }\n",
              "</style>\n",
              "<table border=\"1\" class=\"dataframe\">\n",
              "  <thead>\n",
              "    <tr style=\"text-align: right;\">\n",
              "      <th></th>\n",
              "      <th>vano</th>\n",
              "      <th>mes</th>\n",
              "      <th>feminicidio</th>\n",
              "      <th>feminicidio_tentativa</th>\n",
              "    </tr>\n",
              "  </thead>\n",
              "  <tbody>\n",
              "    <tr>\n",
              "      <th>0</th>\n",
              "      <td>2016</td>\n",
              "      <td>10</td>\n",
              "      <td>0</td>\n",
              "      <td>0</td>\n",
              "    </tr>\n",
              "    <tr>\n",
              "      <th>1</th>\n",
              "      <td>2016</td>\n",
              "      <td>10</td>\n",
              "      <td>0</td>\n",
              "      <td>0</td>\n",
              "    </tr>\n",
              "    <tr>\n",
              "      <th>2</th>\n",
              "      <td>2016</td>\n",
              "      <td>10</td>\n",
              "      <td>0</td>\n",
              "      <td>0</td>\n",
              "    </tr>\n",
              "    <tr>\n",
              "      <th>3</th>\n",
              "      <td>2016</td>\n",
              "      <td>10</td>\n",
              "      <td>0</td>\n",
              "      <td>1</td>\n",
              "    </tr>\n",
              "    <tr>\n",
              "      <th>4</th>\n",
              "      <td>2016</td>\n",
              "      <td>10</td>\n",
              "      <td>0</td>\n",
              "      <td>0</td>\n",
              "    </tr>\n",
              "  </tbody>\n",
              "</table>\n",
              "</div>"
            ],
            "text/plain": [
              "   vano  mes  feminicidio  feminicidio_tentativa\n",
              "0  2016   10            0                      0\n",
              "1  2016   10            0                      0\n",
              "2  2016   10            0                      0\n",
              "3  2016   10            0                      1\n",
              "4  2016   10            0                      0"
            ]
          },
          "metadata": {
            "tags": []
          },
          "execution_count": 22
        }
      ]
    },
    {
      "cell_type": "markdown",
      "metadata": {
        "id": "SMk666HPF5NN",
        "colab_type": "text"
      },
      "source": [
        "**Dicionário das variáveis**\n",
        "\n",
        "* vano - o ano que aconteceu a tentativa ou o feminicidio em si\n",
        "* mes - mês do ocorrido\n",
        "* feminicidio - quando realmente levou a morte\n",
        "* feminicidio_tentativa - quando ocorreu a tentativa\n",
        "\n"
      ]
    },
    {
      "cell_type": "markdown",
      "metadata": {
        "id": "9XsFG7JsPNs5",
        "colab_type": "text"
      },
      "source": [
        "### Quais são os resultados estatísticos resumidos do DataFrame ?\n",
        "\n",
        "* É importante saber o resumo prévio do DataFrame justamente para se ter uma noção do todo."
      ]
    },
    {
      "cell_type": "code",
      "metadata": {
        "id": "RMOMsJrXQfDQ",
        "colab_type": "code",
        "outputId": "a2bb219b-fbf1-4c26-ad25-1705d4bc2710",
        "colab": {
          "base_uri": "https://localhost:8080/",
          "height": 297
        }
      },
      "source": [
        "# Resumo estatistico\n",
        "df.describe()"
      ],
      "execution_count": 0,
      "outputs": [
        {
          "output_type": "execute_result",
          "data": {
            "text/html": [
              "<div>\n",
              "<style scoped>\n",
              "    .dataframe tbody tr th:only-of-type {\n",
              "        vertical-align: middle;\n",
              "    }\n",
              "\n",
              "    .dataframe tbody tr th {\n",
              "        vertical-align: top;\n",
              "    }\n",
              "\n",
              "    .dataframe thead th {\n",
              "        text-align: right;\n",
              "    }\n",
              "</style>\n",
              "<table border=\"1\" class=\"dataframe\">\n",
              "  <thead>\n",
              "    <tr style=\"text-align: right;\">\n",
              "      <th></th>\n",
              "      <th>vano</th>\n",
              "      <th>mes</th>\n",
              "      <th>feminicidio</th>\n",
              "      <th>feminicidio_tentativa</th>\n",
              "    </tr>\n",
              "  </thead>\n",
              "  <tbody>\n",
              "    <tr>\n",
              "      <th>count</th>\n",
              "      <td>5370.000000</td>\n",
              "      <td>5370.000000</td>\n",
              "      <td>5370.000000</td>\n",
              "      <td>5370.000000</td>\n",
              "    </tr>\n",
              "    <tr>\n",
              "      <th>mean</th>\n",
              "      <td>2017.843575</td>\n",
              "      <td>6.846927</td>\n",
              "      <td>0.044507</td>\n",
              "      <td>0.171881</td>\n",
              "    </tr>\n",
              "    <tr>\n",
              "      <th>std</th>\n",
              "      <td>0.947947</td>\n",
              "      <td>3.534472</td>\n",
              "      <td>0.217661</td>\n",
              "      <td>0.528980</td>\n",
              "    </tr>\n",
              "    <tr>\n",
              "      <th>min</th>\n",
              "      <td>2016.000000</td>\n",
              "      <td>1.000000</td>\n",
              "      <td>0.000000</td>\n",
              "      <td>0.000000</td>\n",
              "    </tr>\n",
              "    <tr>\n",
              "      <th>25%</th>\n",
              "      <td>2017.000000</td>\n",
              "      <td>4.000000</td>\n",
              "      <td>0.000000</td>\n",
              "      <td>0.000000</td>\n",
              "    </tr>\n",
              "    <tr>\n",
              "      <th>50%</th>\n",
              "      <td>2018.000000</td>\n",
              "      <td>7.000000</td>\n",
              "      <td>0.000000</td>\n",
              "      <td>0.000000</td>\n",
              "    </tr>\n",
              "    <tr>\n",
              "      <th>75%</th>\n",
              "      <td>2019.000000</td>\n",
              "      <td>10.000000</td>\n",
              "      <td>0.000000</td>\n",
              "      <td>0.000000</td>\n",
              "    </tr>\n",
              "    <tr>\n",
              "      <th>max</th>\n",
              "      <td>2019.000000</td>\n",
              "      <td>12.000000</td>\n",
              "      <td>3.000000</td>\n",
              "      <td>8.000000</td>\n",
              "    </tr>\n",
              "  </tbody>\n",
              "</table>\n",
              "</div>"
            ],
            "text/plain": [
              "              vano          mes  feminicidio  feminicidio_tentativa\n",
              "count  5370.000000  5370.000000  5370.000000            5370.000000\n",
              "mean   2017.843575     6.846927     0.044507               0.171881\n",
              "std       0.947947     3.534472     0.217661               0.528980\n",
              "min    2016.000000     1.000000     0.000000               0.000000\n",
              "25%    2017.000000     4.000000     0.000000               0.000000\n",
              "50%    2018.000000     7.000000     0.000000               0.000000\n",
              "75%    2019.000000    10.000000     0.000000               0.000000\n",
              "max    2019.000000    12.000000     3.000000               8.000000"
            ]
          },
          "metadata": {
            "tags": []
          },
          "execution_count": 53
        }
      ]
    },
    {
      "cell_type": "markdown",
      "metadata": {
        "id": "7CVlO4YcQi_G",
        "colab_type": "text"
      },
      "source": [
        "* **count** - quantidade de entradas válidas\n",
        "* **mean** - média dos valores\n",
        "* **std** - desvio padrão\n",
        "* **min** - menor valor da coluna\n",
        "* **25%** - percentil 25\n",
        "* **50%** - percentil 50 (e mediana)\n",
        "* **75%** - percentil 75\n",
        "* **max** - maior valor da coluna"
      ]
    },
    {
      "cell_type": "markdown",
      "metadata": {
        "id": "dL3jLt4yRB8O",
        "colab_type": "text"
      },
      "source": [
        "* Pode ser visto que são nú-meros pequenos quando se pensa em algo como femminicidio e além disso, em quase 4 anos de dados.\n",
        "\n",
        "* Suposições podem ser levantadas :\n",
        "\n",
        " 1 - A falta de notificação do caso.\n",
        "\n",
        " 2 - A notificação em vez de ser feminicidio, foi apresentada como Homocidio ou recebeu outra categorização\n",
        "\n",
        " \n"
      ]
    },
    {
      "cell_type": "markdown",
      "metadata": {
        "id": "tTbmQNJ9Swc6",
        "colab_type": "text"
      },
      "source": [
        "### Existe valores ausentes ?\n",
        "\n",
        "* É importante saber se existe valores ausentes justamente para não deixar a pesquisa tedenciosa. Valores faltasos podem gerar falsas conclusões"
      ]
    },
    {
      "cell_type": "code",
      "metadata": {
        "id": "q9YkAOQ-TSwB",
        "colab_type": "code",
        "outputId": "1729ece2-e00e-472a-d63e-da19894d7413",
        "colab": {
          "base_uri": "https://localhost:8080/",
          "height": 102
        }
      },
      "source": [
        "# Existencia de valores ausentes \n",
        "df.isnull().sum()"
      ],
      "execution_count": 0,
      "outputs": [
        {
          "output_type": "execute_result",
          "data": {
            "text/plain": [
              "vano                     0\n",
              "mes                      0\n",
              "feminicidio              0\n",
              "feminicidio_tentativa    0\n",
              "dtype: int64"
            ]
          },
          "metadata": {
            "tags": []
          },
          "execution_count": 55
        }
      ]
    },
    {
      "cell_type": "markdown",
      "metadata": {
        "id": "WvJ4FjDFURnG",
        "colab_type": "text"
      },
      "source": [
        "### Informações Estatísticas "
      ]
    },
    {
      "cell_type": "markdown",
      "metadata": {
        "id": "NTZj1VYBUZ5G",
        "colab_type": "text"
      },
      "source": [
        "* É importante saber as principais relações estatísticas presentes nos dados para se ter uma noção de como tudo pode ser correlacionado e mostrado da maneira mais elucidada possivel."
      ]
    },
    {
      "cell_type": "code",
      "metadata": {
        "id": "YDjkteDpbBNM",
        "colab_type": "code",
        "outputId": "cf59b4bd-08c8-46a8-b953-6c86162d36ca",
        "colab": {
          "base_uri": "https://localhost:8080/",
          "height": 34
        }
      },
      "source": [
        "# Média de feminicidio\n",
        "mean_df_feminicidio = df.feminicidio.mean()\n",
        "print(mean_df_feminicidio)"
      ],
      "execution_count": 0,
      "outputs": [
        {
          "output_type": "stream",
          "text": [
            "0.044506517690875234\n"
          ],
          "name": "stdout"
        }
      ]
    },
    {
      "cell_type": "code",
      "metadata": {
        "id": "53MolwFDbHt6",
        "colab_type": "code",
        "outputId": "572ab58c-34c9-415e-d94e-90b2f8d6b907",
        "colab": {
          "base_uri": "https://localhost:8080/",
          "height": 34
        }
      },
      "source": [
        "# média de tentativa de feminicidio\n",
        "mean_df_feminicidio_tentativa = df.feminicidio_tentativa.mean()\n",
        "print(mean_df_feminicidio_tentativa)"
      ],
      "execution_count": 0,
      "outputs": [
        {
          "output_type": "stream",
          "text": [
            "0.1718808193668529\n"
          ],
          "name": "stdout"
        }
      ]
    },
    {
      "cell_type": "code",
      "metadata": {
        "id": "TsxaYYdRb6rU",
        "colab_type": "code",
        "outputId": "17d1b2b7-36e6-44c7-f27b-86811ddf5d45",
        "colab": {
          "base_uri": "https://localhost:8080/",
          "height": 34
        }
      },
      "source": [
        "# a média das somas de tentativa de feminicidio com feminicidio\n",
        "print(mean_df_feminicidio + mean_df_feminicidio_tentativa)"
      ],
      "execution_count": 0,
      "outputs": [
        {
          "output_type": "stream",
          "text": [
            "0.21638733705772814\n"
          ],
          "name": "stdout"
        }
      ]
    },
    {
      "cell_type": "markdown",
      "metadata": {
        "id": "RUSKyclef8Xl",
        "colab_type": "text"
      },
      "source": [
        "* A primeira vista os números podem ser considerados pequenos devido a média tanto da tentativa quanto do feminicidio em ter se mostrado \"pequena\", mas devemos lembrar que existe o que foi mencionado acima e além disso, isso equivalente apenas a região do Rio de Janeiro"
      ]
    },
    {
      "cell_type": "markdown",
      "metadata": {
        "id": "b5t9dna6hZRI",
        "colab_type": "text"
      },
      "source": [
        "## Visualização de Dados\n",
        "\n",
        "* Com graficos, os dados podem ser melhor visualizados e com isso pode ter melhores informações"
      ]
    },
    {
      "cell_type": "markdown",
      "metadata": {
        "id": "zQjX1jNcim9J",
        "colab_type": "text"
      },
      "source": [
        "## Correlação feminicidio com os meses do ano"
      ]
    },
    {
      "cell_type": "code",
      "metadata": {
        "id": "Vxtp5hQphtme",
        "colab_type": "code",
        "outputId": "017795dd-48d1-49f6-948a-2dd01c7345aa",
        "colab": {
          "base_uri": "https://localhost:8080/",
          "height": 279
        }
      },
      "source": [
        "df.plot('mes', 'feminicidio') ;"
      ],
      "execution_count": 0,
      "outputs": [
        {
          "output_type": "display_data",
          "data": {
            "image/png": "[encoded data removed]",
            "text/plain": [
              "<Figure size 432x288 with 1 Axes>"
            ]
          },
          "metadata": {
            "tags": []
          }
        }
      ]
    },
    {
      "cell_type": "markdown",
      "metadata": {
        "id": "YBXhxxyYoPcI",
        "colab_type": "text"
      },
      "source": [
        "* Pode ser visto que em todos os meses ocorreu pelo menos um caso de feminicidio.\n",
        "\n",
        "* Além disso, meses como **Junho** e **Novembro** foram os que aconteceram mais casos."
      ]
    },
    {
      "cell_type": "markdown",
      "metadata": {
        "id": "FUwVMKXijKSA",
        "colab_type": "text"
      },
      "source": [
        "## Correlação da tentativa de  feminicidio com os meses do ano"
      ]
    },
    {
      "cell_type": "code",
      "metadata": {
        "id": "XErGjmDyi7U1",
        "colab_type": "code",
        "outputId": "227fda80-2140-4dfa-8079-a69d120c3448",
        "colab": {
          "base_uri": "https://localhost:8080/",
          "height": 279
        }
      },
      "source": [
        "df.plot('mes', 'feminicidio_tentativa') ;"
      ],
      "execution_count": 0,
      "outputs": [
        {
          "output_type": "display_data",
          "data": {
            "image/png": "[encoded data removed]",
            "text/plain": [
              "<Figure size 432x288 with 1 Axes>"
            ]
          },
          "metadata": {
            "tags": []
          }
        }
      ]
    },
    {
      "cell_type": "markdown",
      "metadata": {
        "id": "OYhjY7gSo_WE",
        "colab_type": "text"
      },
      "source": [
        "* Como pode ser visto, em todos os meses ocorreram pelo menos 3 casos de tentativa de feminicidio\n",
        "* Além disso, meses como **Outubro**, **Abril** e **Julho** aconteceram mais casos de tentativa de feminicidio"
      ]
    },
    {
      "cell_type": "markdown",
      "metadata": {
        "id": "XCVL9-CJlrUh",
        "colab_type": "text"
      },
      "source": [
        "## Correlação de feminicidio com os meses do ano"
      ]
    },
    {
      "cell_type": "code",
      "metadata": {
        "id": "dIpgSrQxkloz",
        "colab_type": "code",
        "outputId": "83f25a72-607d-4d35-e5a3-df1854da644c",
        "colab": {
          "base_uri": "https://localhost:8080/",
          "height": 279
        }
      },
      "source": [
        "df.plot.scatter('feminicidio', 'mes') ;"
      ],
      "execution_count": 0,
      "outputs": [
        {
          "output_type": "display_data",
          "data": {
            "image/png": "[encoded data removed]",
            "text/plain": [
              "<Figure size 432x288 with 1 Axes>"
            ]
          },
          "metadata": {
            "tags": []
          }
        }
      ]
    },
    {
      "cell_type": "markdown",
      "metadata": {
        "id": "_gtA_dBXrNZZ",
        "colab_type": "text"
      },
      "source": [
        "* Confirma os dados encontrados no primeiro gráfico"
      ]
    },
    {
      "cell_type": "markdown",
      "metadata": {
        "id": "qAWf8NbRl03P",
        "colab_type": "text"
      },
      "source": [
        "## Correlação da tentativa de feminicidio com os meses do ano"
      ]
    },
    {
      "cell_type": "code",
      "metadata": {
        "id": "fc-T7K79lxTP",
        "colab_type": "code",
        "outputId": "fdd5c3e5-92f0-46f5-b554-0e46f7055c42",
        "colab": {
          "base_uri": "https://localhost:8080/",
          "height": 280
        }
      },
      "source": [
        "df.plot.scatter('feminicidio_tentativa', 'mes') ;"
      ],
      "execution_count": 0,
      "outputs": [
        {
          "output_type": "display_data",
          "data": {
            "image/png": "[encoded data removed]",
            "text/plain": [
              "<Figure size 432x288 with 1 Axes>"
            ]
          },
          "metadata": {
            "tags": []
          }
        }
      ]
    },
    {
      "cell_type": "markdown",
      "metadata": {
        "id": "8hV1xkFnqnwJ",
        "colab_type": "text"
      },
      "source": [
        "* Diferente do primeiro grafico, o mês de **Janeiro** foi onde aconteceu a maior quantidade de casos. Mostrando o quão importante é escolher bem a maneira que vai ocorrer a visualização dos dados."
      ]
    },
    {
      "cell_type": "markdown",
      "metadata": {
        "id": "LCsiXvM3BcsO",
        "colab_type": "text"
      },
      "source": [
        "## Conclusão\n",
        "\n",
        "* A principal lição aprendida foi a necessidade de se atentar a cada detalhe dos dados quando se está lidando com dados reais, extraídos diretamente de sites e portais com dados abertos.\n",
        "\n",
        "* Além disso, como citado acima, os dados podem está incompletos ou mal notificados que pode levar ao aumento dos dados aqui mostrados.\n",
        "\n",
        "* Mas, é importante salientar que estrategias podem ser montadas com os dados apresentados, por exemplo, montar campanhas digitais e televisivas próximo dos meses onde ocorreu as maiores quantidades de casos, tanto de tentativa, quanto de feminicidio em si. \n",
        "\n",
        "* Lembrando que a prevenção sempre vai ser a melhor estrategia para se combater algo, tanto pensando em maneiras sociais quanto financeiras."
      ]
    }
  ]
}